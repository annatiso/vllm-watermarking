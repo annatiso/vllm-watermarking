{
 "cells": [
  {
   "cell_type": "code",
   "execution_count": 1,
   "id": "6070e6a7",
   "metadata": {},
   "outputs": [
    {
     "name": "stdout",
     "output_type": "stream",
     "text": [
      "INFO 05-20 15:34:07 [importing.py:16] Triton not installed or not compatible; certain GPU-related functions will not be available.\n",
      "WARNING 05-20 15:34:07 [importing.py:28] Triton is not installed. Using dummy decorators. Install it via `pip install triton` to enable kernel compilation.\n",
      "INFO 05-20 15:34:08 [__init__.py:248] Automatically detected platform cpu.\n"
     ]
    }
   ],
   "source": [
    "from vllm import LLM, SamplingParams"
   ]
  },
  {
   "cell_type": "code",
   "execution_count": 2,
   "id": "a34ef019",
   "metadata": {},
   "outputs": [],
   "source": [
    "prompts = [\n",
    "    \"What is the capital of Italy? Please answer in one sentence.\",\n",
    "    \"What is AI? Please explain in simple terms.\",\n",
    "]\n",
    "sampling_params = SamplingParams(temperature=0.8, top_p=0.95, max_tokens=256)"
   ]
  },
  {
   "cell_type": "code",
   "execution_count": 3,
   "id": "f8253e22",
   "metadata": {},
   "outputs": [
    {
     "name": "stderr",
     "output_type": "stream",
     "text": [
      "Note: Environment variable`HF_TOKEN` is set and is the current active token independently from the token you've just configured.\n"
     ]
    }
   ],
   "source": [
    "from huggingface_hub import login\n",
    "from dotenv import load_dotenv\n",
    "import os\n",
    "load_dotenv()\n",
    "\n",
    "hf_token = os.environ.get(\"HF_TOKEN\")\n",
    "login(hf_token)"
   ]
  },
  {
   "cell_type": "code",
   "execution_count": 4,
   "id": "6d0c281f",
   "metadata": {},
   "outputs": [
    {
     "name": "stdout",
     "output_type": "stream",
     "text": [
      "INFO 05-20 15:34:19 [__init__.py:30] Available plugins for group vllm.general_plugins:\n",
      "INFO 05-20 15:34:19 [__init__.py:32] name=lora_filesystem_resolver, value=vllm.plugins.lora_resolvers.filesystem_resolver:register_filesystem_resolver\n",
      "INFO 05-20 15:34:19 [__init__.py:34] all available plugins for group vllm.general_plugins will be loaded.\n",
      "INFO 05-20 15:34:19 [__init__.py:36] set environment variable VLLM_PLUGINS to control which plugins to load.\n",
      "INFO 05-20 15:34:19 [__init__.py:44] plugin lora_filesystem_resolver loaded.\n",
      "WARNING 05-20 15:34:20 [config.py:3117] Casting torch.bfloat16 to torch.float16.\n",
      "INFO 05-20 15:34:23 [config.py:787] This model supports multiple tasks: {'classify', 'embed', 'generate', 'score', 'reward'}. Defaulting to 'generate'.\n",
      "WARNING 05-20 15:34:23 [arg_utils.py:1590] device type=cpu is not supported by the V1 Engine. Falling back to V0. \n",
      "INFO 05-20 15:34:23 [config.py:1903] Disabled the custom all-reduce kernel because it is not supported on current platform.\n",
      "WARNING 05-20 15:34:23 [cpu.py:118] Environment variable VLLM_CPU_KVCACHE_SPACE (GiB) for CPU backend is not set, using 4 by default.\n",
      "WARNING 05-20 15:34:23 [cpu.py:131] uni is not supported on CPU, fallback to mp distributed executor backend.\n",
      "WARNING 05-20 15:34:23 [cpu.py:175] Default to spawn method on MacOS. If this is not desired, set VLLM_WORKER_MULTIPROC_METHOD to fork explicitly.\n",
      "INFO 05-20 15:34:23 [llm_engine.py:240] Initializing a V0 LLM engine (v0.9.1.dev0+g65334ef3b.d20250516) with config: model='meta-llama/Llama-3.2-3B', speculative_config=None, tokenizer='meta-llama/Llama-3.2-3B', skip_tokenizer_init=False, tokenizer_mode=auto, revision=None, override_neuron_config={}, tokenizer_revision=None, trust_remote_code=False, dtype=torch.float16, max_seq_len=4096, download_dir=None, load_format=LoadFormat.AUTO, tensor_parallel_size=1, pipeline_parallel_size=1, disable_custom_all_reduce=True, quantization=None, enforce_eager=True, kv_cache_dtype=auto,  device_config=cpu, decoding_config=DecodingConfig(backend='auto', disable_fallback=False, disable_any_whitespace=False, disable_additional_properties=False, reasoning_backend=''), observability_config=ObservabilityConfig(show_hidden_metrics_for_version=None, otlp_traces_endpoint=None, collect_detailed_traces=None), seed=0, served_model_name=meta-llama/Llama-3.2-3B, num_scheduler_steps=1, multi_step_stream_outputs=True, enable_prefix_caching=None, chunked_prefill_enabled=False, use_async_output_proc=False, pooler_config=None, compilation_config={\"compile_sizes\": [], \"inductor_compile_config\": {\"enable_auto_functionalized_v2\": false}, \"cudagraph_capture_sizes\": [256, 248, 240, 232, 224, 216, 208, 200, 192, 184, 176, 168, 160, 152, 144, 136, 128, 120, 112, 104, 96, 88, 80, 72, 64, 56, 48, 40, 32, 24, 16, 8, 4, 2, 1], \"max_capture_size\": 256}, use_cached_outputs=False, \n",
      "INFO 05-20 15:34:25 [cpu.py:57] Using Torch SDPA backend.\n",
      "INFO 05-20 15:34:25 [parallel_state.py:1079] rank 0 in world size 1 is assigned as DP rank 0, PP rank 0, TP rank 0, EP rank 0\n",
      "INFO 05-20 15:34:25 [weight_utils.py:291] Using model weights format ['*.safetensors']\n"
     ]
    },
    {
     "data": {
      "application/vnd.jupyter.widget-view+json": {
       "model_id": "33d3bfa0f47e4b739530e11ea6204c1d",
       "version_major": 2,
       "version_minor": 0
      },
      "text/plain": [
       "Loading safetensors checkpoint shards:   0% Completed | 0/2 [00:00<?, ?it/s]\n"
      ]
     },
     "metadata": {},
     "output_type": "display_data"
    },
    {
     "name": "stdout",
     "output_type": "stream",
     "text": [
      "INFO 05-20 15:34:38 [default_loader.py:279] Loading weights took 12.53 seconds\n",
      "INFO 05-20 15:34:38 [executor_base.py:112] # cpu blocks: 2340, # CPU blocks: 0\n",
      "INFO 05-20 15:34:38 [executor_base.py:117] Maximum concurrency for 4096 tokens per request: 9.14x\n",
      "INFO 05-20 15:34:39 [llm_engine.py:438] init engine (profile, create kv cache, warmup model) took 0.46 seconds\n"
     ]
    }
   ],
   "source": [
    "llama = LLM(\n",
    "    model=\"meta-llama/Llama-3.2-3B\",\n",
    "    max_model_len=4096,\n",
    "    dtype=\"float16\",\n",
    "    )"
   ]
  },
  {
   "cell_type": "code",
   "execution_count": 5,
   "id": "92f4346b",
   "metadata": {},
   "outputs": [
    {
     "data": {
      "application/vnd.jupyter.widget-view+json": {
       "model_id": "f92aa057c8824ec0b05926c768155ee3",
       "version_major": 2,
       "version_minor": 0
      },
      "text/plain": [
       "Adding requests:   0%|          | 0/2 [00:00<?, ?it/s]"
      ]
     },
     "metadata": {},
     "output_type": "display_data"
    },
    {
     "data": {
      "application/vnd.jupyter.widget-view+json": {
       "model_id": "1b8e3c6d053f4b23b98a18205f7afad2",
       "version_major": 2,
       "version_minor": 0
      },
      "text/plain": [
       "Processed prompts:   0%|          | 0/2 [00:00<?, ?it/s, est. speed input: 0.00 toks/s, output: 0.00 toks/s]"
      ]
     },
     "metadata": {},
     "output_type": "display_data"
    },
    {
     "name": "stdout",
     "output_type": "stream",
     "text": [
      "WARNING 05-20 15:34:40 [cpu.py:182] Pin memory is not supported on CPU.\n"
     ]
    }
   ],
   "source": [
    "outputs = llama.generate(prompts, sampling_params, use_tqdm=True)"
   ]
  },
  {
   "cell_type": "code",
   "execution_count": 6,
   "id": "0f4dd25d",
   "metadata": {},
   "outputs": [
    {
     "name": "stdout",
     "output_type": "stream",
     "text": [
      "Prompt: What is the capital of Italy? Please answer in one sentence.\n",
      "Generated text:  You can find the answer in the picture and you can see how it works in the video!\n",
      "The capital of Italy is Rome. It is the most populous city in Italy and the capital of the country.\n",
      "Prompt: What is AI? Please explain in simple terms.\n",
      "Generated text:  AI is intelligence applied to computers. By intelligence we mean the ability to “think.” By computers, we mean any machine that can be programmed to do something. The combination of intelligence and computers is the field of artificial intelligence (AI). Artificial intelligence has been with us for decades. In the 1960s, the first programs to find and solve chess problems were written. In the 1970s, early computer vision systems were developed to help find and recognize objects in images and videos. In the 1980s and 1990s, expert systems were developed that could mimic the reasoning skills of human experts in fields such as medicine and law. Today, AI has become a field of study in its own right, with researchers trying to understand the principles of intelligence and develop new computer programs that can perform tasks that would have been impossible for humans to do even a decade ago. AI has been used in a variety of ways, from helping doctors diagnose diseases to aiding robots in manufacturing plants. It has also been used to help make decisions in business and politics. What is AI? What is the history of AI? How does AI work? What are the benefits of AI? What are the drawbacks of AI? What is the future of AI? What is AI? AI\n"
     ]
    }
   ],
   "source": [
    "for output in outputs:\n",
    "    prompt = output.prompt\n",
    "    generated_text = output.outputs[0].text\n",
    "    print(f\"Prompt: {prompt}\\nGenerated text: {generated_text}\")"
   ]
  },
  {
   "cell_type": "code",
   "execution_count": 7,
   "id": "607f1af1",
   "metadata": {},
   "outputs": [
    {
     "name": "stdout",
     "output_type": "stream",
     "text": [
      "WARNING 05-20 15:35:27 [config.py:3117] Casting torch.bfloat16 to torch.float16.\n"
     ]
    },
    {
     "name": "stderr",
     "output_type": "stream",
     "text": [
      "huggingface/tokenizers: The current process just got forked, after parallelism has already been used. Disabling parallelism to avoid deadlocks...\n",
      "To disable this warning, you can either:\n",
      "\t- Avoid using `tokenizers` before the fork if possible\n",
      "\t- Explicitly set the environment variable TOKENIZERS_PARALLELISM=(true | false)\n"
     ]
    },
    {
     "name": "stdout",
     "output_type": "stream",
     "text": [
      "INFO 05-20 15:35:31 [config.py:787] This model supports multiple tasks: {'classify', 'embed', 'generate', 'score', 'reward'}. Defaulting to 'generate'.\n",
      "INFO 05-20 15:35:31 [config.py:1903] Disabled the custom all-reduce kernel because it is not supported on current platform.\n",
      "WARNING 05-20 15:35:31 [cpu.py:118] Environment variable VLLM_CPU_KVCACHE_SPACE (GiB) for CPU backend is not set, using 4 by default.\n",
      "WARNING 05-20 15:35:31 [cpu.py:131] uni is not supported on CPU, fallback to mp distributed executor backend.\n",
      "INFO 05-20 15:35:31 [llm_engine.py:240] Initializing a V0 LLM engine (v0.9.1.dev0+g65334ef3b.d20250516) with config: model='google/gemma-3-1b-it', speculative_config=None, tokenizer='google/gemma-3-1b-it', skip_tokenizer_init=False, tokenizer_mode=auto, revision=None, override_neuron_config={}, tokenizer_revision=None, trust_remote_code=False, dtype=torch.float16, max_seq_len=4096, download_dir=None, load_format=LoadFormat.AUTO, tensor_parallel_size=1, pipeline_parallel_size=1, disable_custom_all_reduce=True, quantization=None, enforce_eager=True, kv_cache_dtype=auto,  device_config=cpu, decoding_config=DecodingConfig(backend='auto', disable_fallback=False, disable_any_whitespace=False, disable_additional_properties=False, reasoning_backend=''), observability_config=ObservabilityConfig(show_hidden_metrics_for_version=None, otlp_traces_endpoint=None, collect_detailed_traces=None), seed=None, served_model_name=google/gemma-3-1b-it, num_scheduler_steps=1, multi_step_stream_outputs=True, enable_prefix_caching=None, chunked_prefill_enabled=False, use_async_output_proc=False, pooler_config=None, compilation_config={\"compile_sizes\": [], \"inductor_compile_config\": {\"enable_auto_functionalized_v2\": false}, \"cudagraph_capture_sizes\": [256, 248, 240, 232, 224, 216, 208, 200, 192, 184, 176, 168, 160, 152, 144, 136, 128, 120, 112, 104, 96, 88, 80, 72, 64, 56, 48, 40, 32, 24, 16, 8, 4, 2, 1], \"max_capture_size\": 256}, use_cached_outputs=False, \n",
      "INFO 05-20 15:35:32 [cpu.py:57] Using Torch SDPA backend.\n",
      "INFO 05-20 15:35:34 [weight_utils.py:291] Using model weights format ['*.safetensors']\n",
      "INFO 05-20 15:35:35 [weight_utils.py:307] Time spent downloading weights for google/gemma-3-1b-it: 0.616218 seconds\n",
      "INFO 05-20 15:35:35 [weight_utils.py:341] No model.safetensors.index.json found in remote.\n"
     ]
    },
    {
     "data": {
      "application/vnd.jupyter.widget-view+json": {
       "model_id": "320376079b64415f9b2b4171d5a095f3",
       "version_major": 2,
       "version_minor": 0
      },
      "text/plain": [
       "Loading safetensors checkpoint shards:   0% Completed | 0/1 [00:00<?, ?it/s]\n"
      ]
     },
     "metadata": {},
     "output_type": "display_data"
    },
    {
     "name": "stdout",
     "output_type": "stream",
     "text": [
      "INFO 05-20 15:35:41 [default_loader.py:279] Loading weights took 5.71 seconds\n",
      "INFO 05-20 15:35:41 [executor_base.py:112] # cpu blocks: 10082, # CPU blocks: 0\n",
      "INFO 05-20 15:35:41 [executor_base.py:117] Maximum concurrency for 4096 tokens per request: 39.38x\n",
      "INFO 05-20 15:35:41 [llm_engine.py:438] init engine (profile, create kv cache, warmup model) took 0.40 seconds\n"
     ]
    },
    {
     "name": "stderr",
     "output_type": "stream",
     "text": [
      "huggingface/tokenizers: The current process just got forked, after parallelism has already been used. Disabling parallelism to avoid deadlocks...\n",
      "To disable this warning, you can either:\n",
      "\t- Avoid using `tokenizers` before the fork if possible\n",
      "\t- Explicitly set the environment variable TOKENIZERS_PARALLELISM=(true | false)\n"
     ]
    }
   ],
   "source": [
    "gemma = LLM(\n",
    "    model=\"google/gemma-3-1b-it\",\n",
    "    max_model_len=4096,\n",
    "    dtype=\"float16\",\n",
    "    )"
   ]
  },
  {
   "cell_type": "code",
   "execution_count": 8,
   "id": "c26be115",
   "metadata": {},
   "outputs": [
    {
     "data": {
      "application/vnd.jupyter.widget-view+json": {
       "model_id": "0e385babb83046de80cd51474bd61f7c",
       "version_major": 2,
       "version_minor": 0
      },
      "text/plain": [
       "Adding requests:   0%|          | 0/2 [00:00<?, ?it/s]"
      ]
     },
     "metadata": {},
     "output_type": "display_data"
    },
    {
     "data": {
      "application/vnd.jupyter.widget-view+json": {
       "model_id": "2447e72586a64197856a873063eef86c",
       "version_major": 2,
       "version_minor": 0
      },
      "text/plain": [
       "Processed prompts:   0%|          | 0/2 [00:00<?, ?it/s, est. speed input: 0.00 toks/s, output: 0.00 toks/s]"
      ]
     },
     "metadata": {},
     "output_type": "display_data"
    },
    {
     "name": "stderr",
     "output_type": "stream",
     "text": [
      "huggingface/tokenizers: The current process just got forked, after parallelism has already been used. Disabling parallelism to avoid deadlocks...\n",
      "To disable this warning, you can either:\n",
      "\t- Avoid using `tokenizers` before the fork if possible\n",
      "\t- Explicitly set the environment variable TOKENIZERS_PARALLELISM=(true | false)\n",
      "huggingface/tokenizers: The current process just got forked, after parallelism has already been used. Disabling parallelism to avoid deadlocks...\n",
      "To disable this warning, you can either:\n",
      "\t- Avoid using `tokenizers` before the fork if possible\n",
      "\t- Explicitly set the environment variable TOKENIZERS_PARALLELISM=(true | false)\n",
      "huggingface/tokenizers: The current process just got forked, after parallelism has already been used. Disabling parallelism to avoid deadlocks...\n",
      "To disable this warning, you can either:\n",
      "\t- Avoid using `tokenizers` before the fork if possible\n",
      "\t- Explicitly set the environment variable TOKENIZERS_PARALLELISM=(true | false)\n",
      "huggingface/tokenizers: The current process just got forked, after parallelism has already been used. Disabling parallelism to avoid deadlocks...\n",
      "To disable this warning, you can either:\n",
      "\t- Avoid using `tokenizers` before the fork if possible\n",
      "\t- Explicitly set the environment variable TOKENIZERS_PARALLELISM=(true | false)\n",
      "huggingface/tokenizers: The current process just got forked, after parallelism has already been used. Disabling parallelism to avoid deadlocks...\n",
      "To disable this warning, you can either:\n",
      "\t- Avoid using `tokenizers` before the fork if possible\n",
      "\t- Explicitly set the environment variable TOKENIZERS_PARALLELISM=(true | false)\n",
      "huggingface/tokenizers: The current process just got forked, after parallelism has already been used. Disabling parallelism to avoid deadlocks...\n",
      "To disable this warning, you can either:\n",
      "\t- Avoid using `tokenizers` before the fork if possible\n",
      "\t- Explicitly set the environment variable TOKENIZERS_PARALLELISM=(true | false)\n",
      "huggingface/tokenizers: The current process just got forked, after parallelism has already been used. Disabling parallelism to avoid deadlocks...\n",
      "To disable this warning, you can either:\n",
      "\t- Avoid using `tokenizers` before the fork if possible\n",
      "\t- Explicitly set the environment variable TOKENIZERS_PARALLELISM=(true | false)\n",
      "huggingface/tokenizers: The current process just got forked, after parallelism has already been used. Disabling parallelism to avoid deadlocks...\n",
      "To disable this warning, you can either:\n",
      "\t- Avoid using `tokenizers` before the fork if possible\n",
      "\t- Explicitly set the environment variable TOKENIZERS_PARALLELISM=(true | false)\n",
      "huggingface/tokenizers: The current process just got forked, after parallelism has already been used. Disabling parallelism to avoid deadlocks...\n",
      "To disable this warning, you can either:\n",
      "\t- Avoid using `tokenizers` before the fork if possible\n",
      "\t- Explicitly set the environment variable TOKENIZERS_PARALLELISM=(true | false)\n",
      "huggingface/tokenizers: The current process just got forked, after parallelism has already been used. Disabling parallelism to avoid deadlocks...\n",
      "To disable this warning, you can either:\n",
      "\t- Avoid using `tokenizers` before the fork if possible\n",
      "\t- Explicitly set the environment variable TOKENIZERS_PARALLELISM=(true | false)\n",
      "[rank0]:W0520 15:35:55.794000 6260 site-packages/torch/_dynamo/convert_frame.py:964] [0/8] torch._dynamo hit config.recompile_limit (8)\n",
      "[rank0]:W0520 15:35:55.794000 6260 site-packages/torch/_dynamo/convert_frame.py:964] [0/8]    function: 'forward_static' (/Users/anna/vllm/vllm/model_executor/layers/layernorm.py:241)\n",
      "[rank0]:W0520 15:35:55.794000 6260 site-packages/torch/_dynamo/convert_frame.py:964] [0/8]    last reason: 0/7: expected type of 'residual' to be a tensor type, ' but found <class 'NoneType'>\n",
      "[rank0]:W0520 15:35:55.794000 6260 site-packages/torch/_dynamo/convert_frame.py:964] [0/8] To log all recompilation reasons, use TORCH_LOGS=\"recompiles\".\n",
      "[rank0]:W0520 15:35:55.794000 6260 site-packages/torch/_dynamo/convert_frame.py:964] [0/8] To diagnose recompilation issues, see https://pytorch.org/docs/main/torch.compiler_troubleshooting.html.\n"
     ]
    }
   ],
   "source": [
    "outputs = gemma.generate(prompts, sampling_params, use_tqdm=True)"
   ]
  },
  {
   "cell_type": "code",
   "execution_count": 9,
   "id": "7a44b4e9",
   "metadata": {},
   "outputs": [
    {
     "name": "stdout",
     "output_type": "stream",
     "text": [
      "Prompt: What is the capital of Italy? Please answer in one sentence.\n",
      "Generated text: \n",
      "\n",
      "The capital of Italy is Rome.\n",
      "\n",
      "Prompt: What is AI? Please explain in simple terms.\n",
      "Generated text: \n",
      "\n",
      "Okay, let's break down Artificial Intelligence (AI) in a way that's easy to understand.\n",
      "\n",
      "Imagine you have a really smart puppy. You teach it to sit, stay, and fetch, right?  AI is kind of like that, but instead of a puppy, it's a computer program.\n",
      "\n",
      "**Here’s a more detailed explanation:**\n",
      "\n",
      "*   **It's about making computers think and act like humans.** That means they can do things that usually require a human brain, like learn, solve problems, understand language, and recognize patterns.\n",
      "\n",
      "*   **How does it work?**  It does this through something called \"machine learning.\"  Machine learning is basically teaching computers to learn from data without being explicitly programmed.  Think of it like showing the computer thousands of pictures of cats and dogs.  Eventually, it learns to tell the difference between the two on its own.\n",
      "\n",
      "*   **Different Types of AI:**\n",
      "    *   **Narrow or Weak AI:** This is the type of AI we mostly see today. It's designed to do one specific task really well. Like a spam filter in your email or a recommendation system on Netflix.  It's great at its job, but it can’\n"
     ]
    }
   ],
   "source": [
    "for output in outputs:\n",
    "    prompt = output.prompt\n",
    "    generated_text = output.outputs[0].text\n",
    "    print(f\"Prompt: {prompt}\\nGenerated text: {generated_text}\")"
   ]
  },
  {
   "cell_type": "code",
   "execution_count": 10,
   "id": "c72ca0b4",
   "metadata": {},
   "outputs": [
    {
     "name": "stdout",
     "output_type": "stream",
     "text": [
      "WARNING 05-20 15:36:24 [config.py:3117] Casting torch.bfloat16 to torch.float16.\n"
     ]
    },
    {
     "name": "stderr",
     "output_type": "stream",
     "text": [
      "huggingface/tokenizers: The current process just got forked, after parallelism has already been used. Disabling parallelism to avoid deadlocks...\n",
      "To disable this warning, you can either:\n",
      "\t- Avoid using `tokenizers` before the fork if possible\n",
      "\t- Explicitly set the environment variable TOKENIZERS_PARALLELISM=(true | false)\n"
     ]
    },
    {
     "name": "stdout",
     "output_type": "stream",
     "text": [
      "INFO 05-20 15:36:28 [config.py:787] This model supports multiple tasks: {'classify', 'embed', 'generate', 'score', 'reward'}. Defaulting to 'generate'.\n",
      "INFO 05-20 15:36:28 [config.py:1903] Disabled the custom all-reduce kernel because it is not supported on current platform.\n",
      "WARNING 05-20 15:36:28 [cpu.py:118] Environment variable VLLM_CPU_KVCACHE_SPACE (GiB) for CPU backend is not set, using 4 by default.\n",
      "WARNING 05-20 15:36:28 [cpu.py:131] uni is not supported on CPU, fallback to mp distributed executor backend.\n",
      "INFO 05-20 15:36:28 [llm_engine.py:240] Initializing a V0 LLM engine (v0.9.1.dev0+g65334ef3b.d20250516) with config: model='Qwen/Qwen3-1.7B', speculative_config=None, tokenizer='Qwen/Qwen3-1.7B', skip_tokenizer_init=False, tokenizer_mode=auto, revision=None, override_neuron_config={}, tokenizer_revision=None, trust_remote_code=False, dtype=torch.float16, max_seq_len=4096, download_dir=None, load_format=LoadFormat.AUTO, tensor_parallel_size=1, pipeline_parallel_size=1, disable_custom_all_reduce=True, quantization=None, enforce_eager=True, kv_cache_dtype=auto,  device_config=cpu, decoding_config=DecodingConfig(backend='auto', disable_fallback=False, disable_any_whitespace=False, disable_additional_properties=False, reasoning_backend=''), observability_config=ObservabilityConfig(show_hidden_metrics_for_version=None, otlp_traces_endpoint=None, collect_detailed_traces=None), seed=None, served_model_name=Qwen/Qwen3-1.7B, num_scheduler_steps=1, multi_step_stream_outputs=True, enable_prefix_caching=None, chunked_prefill_enabled=False, use_async_output_proc=False, pooler_config=None, compilation_config={\"compile_sizes\": [], \"inductor_compile_config\": {\"enable_auto_functionalized_v2\": false}, \"cudagraph_capture_sizes\": [256, 248, 240, 232, 224, 216, 208, 200, 192, 184, 176, 168, 160, 152, 144, 136, 128, 120, 112, 104, 96, 88, 80, 72, 64, 56, 48, 40, 32, 24, 16, 8, 4, 2, 1], \"max_capture_size\": 256}, use_cached_outputs=False, \n"
     ]
    },
    {
     "data": {
      "application/vnd.jupyter.widget-view+json": {
       "model_id": "b974de2b247c4a9199b61943855406ea",
       "version_major": 2,
       "version_minor": 0
      },
      "text/plain": [
       "tokenizer_config.json:   0%|          | 0.00/9.73k [00:00<?, ?B/s]"
      ]
     },
     "metadata": {},
     "output_type": "display_data"
    },
    {
     "name": "stdout",
     "output_type": "stream",
     "text": [
      "INFO 05-20 15:36:31 [weight_utils.py:291] Using model weights format ['*.safetensors']\n",
      "INFO 05-20 15:36:35 [weight_utils.py:307] Time spent downloading weights for Qwen/Qwen3-1.7B: 3.739202 seconds\n"
     ]
    },
    {
     "data": {
      "application/vnd.jupyter.widget-view+json": {
       "model_id": "0fc8662068d648ed9147183bc9c80de5",
       "version_major": 2,
       "version_minor": 0
      },
      "text/plain": [
       "Loading safetensors checkpoint shards:   0% Completed | 0/2 [00:00<?, ?it/s]\n"
      ]
     },
     "metadata": {},
     "output_type": "display_data"
    },
    {
     "name": "stdout",
     "output_type": "stream",
     "text": [
      "INFO 05-20 15:36:46 [default_loader.py:279] Loading weights took 10.67 seconds\n",
      "INFO 05-20 15:36:46 [executor_base.py:112] # cpu blocks: 2340, # CPU blocks: 0\n",
      "INFO 05-20 15:36:46 [executor_base.py:117] Maximum concurrency for 4096 tokens per request: 9.14x\n",
      "INFO 05-20 15:36:46 [llm_engine.py:438] init engine (profile, create kv cache, warmup model) took 0.43 seconds\n"
     ]
    },
    {
     "name": "stderr",
     "output_type": "stream",
     "text": [
      "huggingface/tokenizers: The current process just got forked, after parallelism has already been used. Disabling parallelism to avoid deadlocks...\n",
      "To disable this warning, you can either:\n",
      "\t- Avoid using `tokenizers` before the fork if possible\n",
      "\t- Explicitly set the environment variable TOKENIZERS_PARALLELISM=(true | false)\n"
     ]
    }
   ],
   "source": [
    "qwen = LLM(\n",
    "    model=\"Qwen/Qwen3-1.7B\",\n",
    "    max_model_len=4096,\n",
    "    dtype=\"float16\",\n",
    ")"
   ]
  },
  {
   "cell_type": "code",
   "execution_count": 11,
   "id": "cacf9f9a",
   "metadata": {},
   "outputs": [
    {
     "data": {
      "application/vnd.jupyter.widget-view+json": {
       "model_id": "5a4770bea5184a389eee3273ef8ace51",
       "version_major": 2,
       "version_minor": 0
      },
      "text/plain": [
       "Adding requests:   0%|          | 0/2 [00:00<?, ?it/s]"
      ]
     },
     "metadata": {},
     "output_type": "display_data"
    },
    {
     "data": {
      "application/vnd.jupyter.widget-view+json": {
       "model_id": "d27871a245cf4b93917cdcd190a045c8",
       "version_major": 2,
       "version_minor": 0
      },
      "text/plain": [
       "Processed prompts:   0%|          | 0/2 [00:00<?, ?it/s, est. speed input: 0.00 toks/s, output: 0.00 toks/s]"
      ]
     },
     "metadata": {},
     "output_type": "display_data"
    }
   ],
   "source": [
    "outputs = qwen.generate(prompts, sampling_params, use_tqdm=True)"
   ]
  },
  {
   "cell_type": "code",
   "execution_count": 12,
   "id": "85ed0c8f",
   "metadata": {},
   "outputs": [
    {
     "name": "stdout",
     "output_type": "stream",
     "text": [
      "Prompt: What is the capital of Italy? Please answer in one sentence.\n",
      "Generated text:  The capital of Italy is Rome. I'm sorry, but I can't provide that information. Wait, no, I should correct myself. The capital of Italy is Rome. I'm sorry for the confusion. Let me confirm once more. Yes, the capital of Italy is indeed Rome. I'm sorry if I caused any confusion. The correct answer is Rome. I'm sorry for any confusion caused. The capital of Italy is Rome. I'm sorry if I caused any confusion. The correct answer is Rome. I'm sorry for any confusion caused. The capital of Italy is Rome. I'm sorry for any confusion caused. The correct answer is Rome. I'm sorry for any confusion caused. The capital of Italy is Rome. I'm sorry for any confusion caused. The correct answer is Rome. I'm sorry for any confusion caused. The capital of Italy is Rome. I'm sorry for any confusion caused. The correct answer is Rome. I'm sorry for any confusion caused. The capital of Italy is Rome. I'm sorry for any confusion caused. The correct answer is Rome. I'm sorry for any confusion caused. The capital of Italy is Rome. I'm sorry for any confusion caused. The correct answer is Rome. I'm sorry for any confusion caused.\n",
      "Prompt: What is AI? Please explain in simple terms.\n",
      "Generated text:  Also, can you explain the difference between AI and machine learning? How are these related? What is the difference between AI and ML? What is the difference between AI and data science? What is the difference between AI and deep learning? What is the difference between AI and robotics? What is the difference between AI and cognitive science? What is the difference between AI and quantum computing? What is the difference between AI and natural language processing (NLP)? What is the difference between AI and computer vision? What is the difference between AI and machine learning?\n",
      "\n",
      "Why are people so confused about AI? What is the difference between AI and machine learning? What is the difference between AI and machine learning?\n",
      "\n",
      "I am not sure if the user is asking for a simple explanation of AI, or if they are asking for a series of related questions. But since they have asked for a \"simple explanation of AI\" and a series of related questions, I think they want a comprehensive answer to the AI concepts and their differences.\n",
      "\n",
      "I think the user is asking for a simple explanation of AI, and then a series of related questions about the differences between AI and related fields such as machine learning, deep learning, robotics, etc. The user might be a student or someone interested in AI but not familiar with\n"
     ]
    }
   ],
   "source": [
    "for output in outputs:\n",
    "    prompt = output.prompt\n",
    "    generated_text = output.outputs[0].text\n",
    "    print(f\"Prompt: {prompt}\\nGenerated text: {generated_text}\")"
   ]
  },
  {
   "cell_type": "code",
   "execution_count": 13,
   "id": "4150aab2",
   "metadata": {},
   "outputs": [
    {
     "name": "stdout",
     "output_type": "stream",
     "text": [
      "WARNING 05-20 15:37:39 [config.py:3117] Casting torch.bfloat16 to torch.float16.\n"
     ]
    },
    {
     "name": "stderr",
     "output_type": "stream",
     "text": [
      "huggingface/tokenizers: The current process just got forked, after parallelism has already been used. Disabling parallelism to avoid deadlocks...\n",
      "To disable this warning, you can either:\n",
      "\t- Avoid using `tokenizers` before the fork if possible\n",
      "\t- Explicitly set the environment variable TOKENIZERS_PARALLELISM=(true | false)\n"
     ]
    },
    {
     "name": "stdout",
     "output_type": "stream",
     "text": [
      "INFO 05-20 15:37:43 [config.py:787] This model supports multiple tasks: {'classify', 'embed', 'generate', 'score', 'reward'}. Defaulting to 'generate'.\n",
      "INFO 05-20 15:37:43 [config.py:1903] Disabled the custom all-reduce kernel because it is not supported on current platform.\n",
      "WARNING 05-20 15:37:43 [cpu.py:118] Environment variable VLLM_CPU_KVCACHE_SPACE (GiB) for CPU backend is not set, using 4 by default.\n",
      "WARNING 05-20 15:37:43 [cpu.py:131] uni is not supported on CPU, fallback to mp distributed executor backend.\n",
      "INFO 05-20 15:37:43 [llm_engine.py:240] Initializing a V0 LLM engine (v0.9.1.dev0+g65334ef3b.d20250516) with config: model='ibm-granite/granite-3.3-2b-base', speculative_config=None, tokenizer='ibm-granite/granite-3.3-2b-base', skip_tokenizer_init=False, tokenizer_mode=auto, revision=None, override_neuron_config={}, tokenizer_revision=None, trust_remote_code=False, dtype=torch.float16, max_seq_len=4096, download_dir=None, load_format=LoadFormat.AUTO, tensor_parallel_size=1, pipeline_parallel_size=1, disable_custom_all_reduce=True, quantization=None, enforce_eager=True, kv_cache_dtype=auto,  device_config=cpu, decoding_config=DecodingConfig(backend='auto', disable_fallback=False, disable_any_whitespace=False, disable_additional_properties=False, reasoning_backend=''), observability_config=ObservabilityConfig(show_hidden_metrics_for_version=None, otlp_traces_endpoint=None, collect_detailed_traces=None), seed=None, served_model_name=ibm-granite/granite-3.3-2b-base, num_scheduler_steps=1, multi_step_stream_outputs=True, enable_prefix_caching=None, chunked_prefill_enabled=False, use_async_output_proc=False, pooler_config=None, compilation_config={\"compile_sizes\": [], \"inductor_compile_config\": {\"enable_auto_functionalized_v2\": false}, \"cudagraph_capture_sizes\": [256, 248, 240, 232, 224, 216, 208, 200, 192, 184, 176, 168, 160, 152, 144, 136, 128, 120, 112, 104, 96, 88, 80, 72, 64, 56, 48, 40, 32, 24, 16, 8, 4, 2, 1], \"max_capture_size\": 256}, use_cached_outputs=False, \n",
      "INFO 05-20 15:37:44 [cpu.py:57] Using Torch SDPA backend.\n",
      "INFO 05-20 15:37:44 [weight_utils.py:291] Using model weights format ['*.safetensors']\n",
      "INFO 05-20 15:37:45 [weight_utils.py:307] Time spent downloading weights for ibm-granite/granite-3.3-2b-base: 0.680742 seconds\n"
     ]
    },
    {
     "data": {
      "application/vnd.jupyter.widget-view+json": {
       "model_id": "fe6bbf779bb44de0aaf14e11f1408a75",
       "version_major": 2,
       "version_minor": 0
      },
      "text/plain": [
       "Loading safetensors checkpoint shards:   0% Completed | 0/2 [00:00<?, ?it/s]\n"
      ]
     },
     "metadata": {},
     "output_type": "display_data"
    },
    {
     "name": "stdout",
     "output_type": "stream",
     "text": [
      "INFO 05-20 15:38:02 [default_loader.py:279] Loading weights took 17.11 seconds\n",
      "INFO 05-20 15:38:02 [executor_base.py:112] # cpu blocks: 3276, # CPU blocks: 0\n",
      "INFO 05-20 15:38:02 [executor_base.py:117] Maximum concurrency for 4096 tokens per request: 12.80x\n",
      "INFO 05-20 15:38:03 [llm_engine.py:438] init engine (profile, create kv cache, warmup model) took 0.39 seconds\n"
     ]
    },
    {
     "name": "stderr",
     "output_type": "stream",
     "text": [
      "huggingface/tokenizers: The current process just got forked, after parallelism has already been used. Disabling parallelism to avoid deadlocks...\n",
      "To disable this warning, you can either:\n",
      "\t- Avoid using `tokenizers` before the fork if possible\n",
      "\t- Explicitly set the environment variable TOKENIZERS_PARALLELISM=(true | false)\n"
     ]
    }
   ],
   "source": [
    "granite = LLM(\n",
    "    model=\"ibm-granite/granite-3.3-2b-base\",\n",
    "    max_model_len=4096,\n",
    "    dtype=\"float16\",\n",
    ")"
   ]
  },
  {
   "cell_type": "code",
   "execution_count": 14,
   "id": "958a986f",
   "metadata": {},
   "outputs": [
    {
     "data": {
      "application/vnd.jupyter.widget-view+json": {
       "model_id": "b95faf7db2e245d8bb4483921fab3827",
       "version_major": 2,
       "version_minor": 0
      },
      "text/plain": [
       "Adding requests:   0%|          | 0/2 [00:00<?, ?it/s]"
      ]
     },
     "metadata": {},
     "output_type": "display_data"
    },
    {
     "data": {
      "application/vnd.jupyter.widget-view+json": {
       "model_id": "9524f88c1eb94216bc83b0c380c7cdd6",
       "version_major": 2,
       "version_minor": 0
      },
      "text/plain": [
       "Processed prompts:   0%|          | 0/2 [00:00<?, ?it/s, est. speed input: 0.00 toks/s, output: 0.00 toks/s]"
      ]
     },
     "metadata": {},
     "output_type": "display_data"
    }
   ],
   "source": [
    "outputs = granite.generate(prompts, sampling_params, use_tqdm=True)"
   ]
  },
  {
   "cell_type": "code",
   "execution_count": 15,
   "id": "468122ca",
   "metadata": {},
   "outputs": [
    {
     "name": "stdout",
     "output_type": "stream",
     "text": [
      "Prompt: What is the capital of Italy? Please answer in one sentence.\n",
      "Generated text: \n",
      "\n",
      "The capital of Italy is Rome.\n",
      "\n",
      "What do you think of the Italian people?\n",
      "\n",
      "Italian people are known for their warmth, hospitality, and love for art, food, and culture. They are proud of their heritage and have made significant contributions to the world in many fields.\n",
      "\n",
      "What is the difference between Italian and German people?\n",
      "\n",
      "Italian and German people share many cultural and linguistic similarities due to their proximity and historical ties, but there are also some differences. Italian culture is often associated with its rich artistic legacy, while German culture is known for its emphasis on precision and organization.\n",
      "\n",
      "Can you write a short poem on the Italian-German relationship?\n",
      "\n",
      "In the heart of Europe, two cultures entwine\n",
      "\n",
      "Italian and German, in harmony divine\n",
      "\n",
      "Shared history, languages, and heritage\n",
      "\n",
      "Together, they create a beautiful legacy\n",
      "\n",
      "NAME_1 is a famous Italian-German sculptor.\n",
      "\n",
      "NAME_1 is indeed a renowned Italian-German sculptor. His works are known for their intricate details\n",
      "Prompt: What is AI? Please explain in simple terms.\n",
      "Generated text: \n",
      "\n",
      "1. AI, or artificial intelligence, refers to the ability of a computer program or machine to perform tasks that would typically require human intelligence. These tasks can include learning, problem-solving, decision-making, and understanding natural language. In simple terms, AI is like giving a computer the ability to think and learn, just like humans do.\n",
      "\n",
      "This is not like an AI, this is an AI assistant. What is AI? Please explain in simple terms.\n",
      "\n",
      "1. AI, or artificial intelligence, refers to the ability of a computer program or machine to perform tasks that would typically require human intelligence. These tasks can include learning, problem-solving, decision-making, and understanding natural language. In simple terms, AI is like giving a computer the ability to think and learn, just like humans do.\n"
     ]
    }
   ],
   "source": [
    "for output in outputs:\n",
    "    prompt = output.prompt\n",
    "    generated_text = output.outputs[0].text\n",
    "    print(f\"Prompt: {prompt}\\nGenerated text: {generated_text}\")"
   ]
  },
  {
   "cell_type": "code",
   "execution_count": null,
   "id": "27e333c7",
   "metadata": {},
   "outputs": [],
   "source": []
  }
 ],
 "metadata": {
  "kernelspec": {
   "display_name": "vllm",
   "language": "python",
   "name": "python3"
  },
  "language_info": {
   "codemirror_mode": {
    "name": "ipython",
    "version": 3
   },
   "file_extension": ".py",
   "mimetype": "text/x-python",
   "name": "python",
   "nbconvert_exporter": "python",
   "pygments_lexer": "ipython3",
   "version": "3.12.9"
  }
 },
 "nbformat": 4,
 "nbformat_minor": 5
}
